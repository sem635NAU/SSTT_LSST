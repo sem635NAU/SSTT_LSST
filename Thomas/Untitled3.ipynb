{
 "cells": [
  {
   "cell_type": "markdown",
   "id": "43b48ea0-aa89-408a-86e9-03ab2ccd23e9",
   "metadata": {},
   "source": [
    "make table that updates evry week for the astroyeds that people are intrested in. and that can have data added to it when some one asks for it. "
   ]
  },
  {
   "cell_type": "code",
   "execution_count": 36,
   "id": "21582dfb-d90d-4e60-9a5f-85a4171badf6",
   "metadata": {},
   "outputs": [],
   "source": [
    "def run_add_astroyed ():\n",
    "    how_many_astroyds = int(input(\"how many astryoeds are you adding? \"))\n",
    "    for amount in how_many_astroyds:\n",
    "        ra = int(input(\"right asention: \"))\n",
    "        jul_date = int(input(\"julian date: \"))\n",
    "        ssname = int(input(\"ssname: \"))\n",
    "        r = int(input(\"r value: \"))\n",
    "        epoc = int(input(\"epoc: \"))\n",
    "    \n",
    "\n",
    "def user_input_tree ():\n",
    "    sentinal = \"valid responce\"\n",
    "    \n",
    "    while sentinal == \"valid responce\":\n",
    "        input_1 = str(input(\"What do you whant to do (initiat[I], add_astryod[add], or look_for_astryod_data[look])? \")).lower()\n",
    "    \n",
    "        if input_1 == 'i':\n",
    "            print(\"initiate_program()\")\n",
    "            sentinal = \"y\"\n",
    "        elif input_1 == \"add\":\n",
    "            run_add_astroyed()\n",
    "            sentinal = \"y\"\n",
    "        elif input_1 == \"look\":\n",
    "            print(\"run_look_for_astryod()\")\n",
    "            sentinal = \"y\"\n",
    "        elif input_1 == \"exit\":\n",
    "            sentinal = \"y\"\n",
    "        else:\n",
    "            print(\"not valid responce\")\n",
    "            sentinal = \"valid responce\""
   ]
  },
  {
   "cell_type": "code",
   "execution_count": 38,
   "id": "b2fdcb1c-f87b-4eef-8523-369f682cd086",
   "metadata": {},
   "outputs": [
    {
     "name": "stdin",
     "output_type": "stream",
     "text": [
      "What do you whant to do (initiat[I], add_astryod[add], or look_for_astryod_data[look])?  add\n",
      "how many astryoeds are you adding?  1\n"
     ]
    },
    {
     "ename": "TypeError",
     "evalue": "'int' object is not iterable",
     "output_type": "error",
     "traceback": [
      "\u001b[0;31m---------------------------------------------------------------------------\u001b[0m",
      "\u001b[0;31mTypeError\u001b[0m                                 Traceback (most recent call last)",
      "Cell \u001b[0;32mIn[38], line 1\u001b[0m\n\u001b[0;32m----> 1\u001b[0m \u001b[43muser_input_tree\u001b[49m\u001b[43m(\u001b[49m\u001b[43m)\u001b[49m\n",
      "Cell \u001b[0;32mIn[36], line 21\u001b[0m, in \u001b[0;36muser_input_tree\u001b[0;34m()\u001b[0m\n\u001b[1;32m     19\u001b[0m     sentinal \u001b[38;5;241m=\u001b[39m \u001b[38;5;124m\"\u001b[39m\u001b[38;5;124my\u001b[39m\u001b[38;5;124m\"\u001b[39m\n\u001b[1;32m     20\u001b[0m \u001b[38;5;28;01melif\u001b[39;00m input_1 \u001b[38;5;241m==\u001b[39m \u001b[38;5;124m\"\u001b[39m\u001b[38;5;124madd\u001b[39m\u001b[38;5;124m\"\u001b[39m:\n\u001b[0;32m---> 21\u001b[0m     \u001b[43mrun_add_astroyed\u001b[49m\u001b[43m(\u001b[49m\u001b[43m)\u001b[49m\n\u001b[1;32m     22\u001b[0m     sentinal \u001b[38;5;241m=\u001b[39m \u001b[38;5;124m\"\u001b[39m\u001b[38;5;124my\u001b[39m\u001b[38;5;124m\"\u001b[39m\n\u001b[1;32m     23\u001b[0m \u001b[38;5;28;01melif\u001b[39;00m input_1 \u001b[38;5;241m==\u001b[39m \u001b[38;5;124m\"\u001b[39m\u001b[38;5;124mlook\u001b[39m\u001b[38;5;124m\"\u001b[39m:\n",
      "Cell \u001b[0;32mIn[36], line 3\u001b[0m, in \u001b[0;36mrun_add_astroyed\u001b[0;34m()\u001b[0m\n\u001b[1;32m      1\u001b[0m \u001b[38;5;28;01mdef\u001b[39;00m\u001b[38;5;250m \u001b[39m\u001b[38;5;21mrun_add_astroyed\u001b[39m ():\n\u001b[1;32m      2\u001b[0m     how_many_astroyds \u001b[38;5;241m=\u001b[39m \u001b[38;5;28mint\u001b[39m(\u001b[38;5;28minput\u001b[39m(\u001b[38;5;124m\"\u001b[39m\u001b[38;5;124mhow many astryoeds are you adding? \u001b[39m\u001b[38;5;124m\"\u001b[39m))\n\u001b[0;32m----> 3\u001b[0m     \u001b[38;5;28;01mfor\u001b[39;00m amount \u001b[38;5;129;01min\u001b[39;00m how_many_astroyds:\n\u001b[1;32m      4\u001b[0m         ra \u001b[38;5;241m=\u001b[39m \u001b[38;5;28mint\u001b[39m(\u001b[38;5;28minput\u001b[39m(\u001b[38;5;124m\"\u001b[39m\u001b[38;5;124mright asention: \u001b[39m\u001b[38;5;124m\"\u001b[39m))\n\u001b[1;32m      5\u001b[0m         jul_date \u001b[38;5;241m=\u001b[39m \u001b[38;5;28mint\u001b[39m(\u001b[38;5;28minput\u001b[39m(\u001b[38;5;124m\"\u001b[39m\u001b[38;5;124mjulian date: \u001b[39m\u001b[38;5;124m\"\u001b[39m))\n",
      "\u001b[0;31mTypeError\u001b[0m: 'int' object is not iterable"
     ]
    }
   ],
   "source": [
    "user_input_tree()\n"
   ]
  },
  {
   "cell_type": "code",
   "execution_count": null,
   "id": "dea93312-8934-4b21-845e-18aabef88f5c",
   "metadata": {},
   "outputs": [],
   "source": []
  }
 ],
 "metadata": {
  "kernelspec": {
   "display_name": "Python 3 (ipykernel)",
   "language": "python",
   "name": "python3"
  },
  "language_info": {
   "codemirror_mode": {
    "name": "ipython",
    "version": 3
   },
   "file_extension": ".py",
   "mimetype": "text/x-python",
   "name": "python",
   "nbconvert_exporter": "python",
   "pygments_lexer": "ipython3",
   "version": "3.9.23"
  }
 },
 "nbformat": 4,
 "nbformat_minor": 5
}
